{
 "cells": [
  {
   "cell_type": "code",
   "execution_count": 2,
   "metadata": {},
   "outputs": [
    {
     "name": "stdout",
     "output_type": "stream",
     "text": [
      "[]\n"
     ]
    }
   ],
   "source": [
    "import sqlite3\n",
    "from sqlite3 import Error\n",
    "from sqlite3 import Connection\n",
    "\n",
    "def create_connection(db_file:str) -> Connection | None:\n",
    "    conn = None\n",
    "    try:\n",
    "        conn = sqlite3.connect(db_file)\n",
    "    except Error as e:\n",
    "        print(e)\n",
    "\n",
    "    return conn\n",
    "\n",
    "def create_table(conn:Connection):\n",
    "    sql_tasks = \"\"\"\n",
    "    CREATE TABLE IF NOT EXISTS iot1(\n",
    "        id INTEGER PRIMARY KEY AUTOINCREMENT,\n",
    "        date TEXT NOT NULL,\n",
    "        light REAL NOT NULL,\n",
    "        temperature REAL NOT NULL\n",
    "    );\n",
    "    \"\"\"\n",
    "\n",
    "    try:\n",
    "        cursor = conn.cursor()\n",
    "        cursor.execute(sql_tasks)\n",
    "    except:\n",
    "        print(\"error\")\n",
    "\n",
    "def select_all_tasks(conn:Connection,count:int):\n",
    "    sql = f\"\"\"\n",
    "        SELECT  * FROM iot1\n",
    "        ORDER by date DESC\n",
    "        LIMIT {count}\n",
    "    \"\"\"\n",
    "    cursor = conn.cursor()\n",
    "    cursor.execute(sql)\n",
    "    rows = cursor.fetchall()\n",
    "    return rows\n",
    "\n",
    "conn = create_connection('data.db')\n",
    "if conn is not None:\n",
    "    create_table(conn)\n",
    "    rows = select_all_tasks(conn, 5)  \n",
    "    print(rows)    \n",
    "    conn.close()"
   ]
  }
 ],
 "metadata": {
  "kernelspec": {
   "display_name": "Python 3",
   "language": "python",
   "name": "python3"
  },
  "language_info": {
   "codemirror_mode": {
    "name": "ipython",
    "version": 3
   },
   "file_extension": ".py",
   "mimetype": "text/x-python",
   "name": "python",
   "nbconvert_exporter": "python",
   "pygments_lexer": "ipython3",
   "version": "3.11.4"
  },
  "orig_nbformat": 4
 },
 "nbformat": 4,
 "nbformat_minor": 2
}
